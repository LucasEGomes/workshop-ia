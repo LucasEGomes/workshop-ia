{
 "cells": [
  {
   "cell_type": "markdown",
   "metadata": {},
   "source": [
    "# Prática com Python\n",
    "1. Modelos clássicos\n",
    " - Regressão Linear\n",
    " - Regressão Logística\n",
    " - Support Vector Machine (SVM)\n",
    " - Árvore de decisão\n",
    " - Random Forests\n",
    " - K-means\n",
    "2. Integração\n",
    " - Arquivos de texto\n",
    " - Bancos de dados\n",
    " - Data Mesh (AWS)"
   ]
  },
  {
   "cell_type": "code",
   "execution_count": 1,
   "metadata": {},
   "outputs": [],
   "source": [
    "import matplotlib.pyplot as plt\n",
    "import numpy as np\n",
    "import pandas as pd\n",
    "from sklearn.cluster import KMeans\n",
    "from sklearn.decomposition import PCA\n",
    "from sklearn.ensemble import RandomForestClassifier, RandomForestRegressor\n",
    "from sklearn.feature_selection import RFE\n",
    "from sklearn.linear_model import LinearRegression, LogisticRegression\n",
    "from sklearn.tree import DecisionTreeClassifier, DecisionTreeRegressor\n",
    "from sklearn.metrics import (ConfusionMatrixDisplay, RocCurveDisplay,\n",
    "                             precision_recall_curve, accuracy_score, f1_score, recall_score, precision_score)\n",
    "from sklearn.model_selection import (GridSearchCV, RandomizedSearchCV,\n",
    "                                     StratifiedShuffleSplit, cross_validate,\n",
    "                                     train_test_split)\n",
    "from sklearn.pipeline import make_pipeline\n",
    "from sklearn.preprocessing import MinMaxScaler, StandardScaler\n",
    "from sklearn.svm import SVC, SVR\n",
    "import pickle"
   ]
  },
  {
   "cell_type": "code",
   "execution_count": 2,
   "metadata": {},
   "outputs": [
    {
     "data": {
      "text/plain": [
       "(42000, 785)"
      ]
     },
     "execution_count": 2,
     "metadata": {},
     "output_type": "execute_result"
    }
   ],
   "source": [
    "SEED = 42\n",
    "numbers = pd.read_csv(\"data/mnist.csv\")\n",
    "numbers.shape"
   ]
  },
  {
   "cell_type": "markdown",
   "metadata": {},
   "source": [
    "# Divisão do conjunto"
   ]
  },
  {
   "cell_type": "code",
   "execution_count": 3,
   "metadata": {},
   "outputs": [
    {
     "data": {
      "text/plain": [
       "Index(['label', 'pixel0', 'pixel1', 'pixel2', 'pixel3', 'pixel4', 'pixel5',\n",
       "       'pixel6', 'pixel7', 'pixel8',\n",
       "       ...\n",
       "       'pixel774', 'pixel775', 'pixel776', 'pixel777', 'pixel778', 'pixel779',\n",
       "       'pixel780', 'pixel781', 'pixel782', 'pixel783'],\n",
       "      dtype='object', length=785)"
      ]
     },
     "execution_count": 3,
     "metadata": {},
     "output_type": "execute_result"
    }
   ],
   "source": [
    "numbers.columns"
   ]
  },
  {
   "cell_type": "markdown",
   "metadata": {},
   "source": [
    "Campo `label` é o rótulo deste conjunto de dados, que desejo prever com o modelo."
   ]
  },
  {
   "cell_type": "code",
   "execution_count": 4,
   "metadata": {},
   "outputs": [],
   "source": [
    "def get_distribution(series: pd.Series) -> pd.DataFrame:\n",
    "    counting = series.value_counts().sort_index()\n",
    "    return pd.DataFrame([\n",
    "        counting,\n",
    "        counting / counting.sum()\n",
    "    ],\n",
    "    index=[\"count\", \"ratio\"])"
   ]
  },
  {
   "cell_type": "code",
   "execution_count": 5,
   "metadata": {},
   "outputs": [
    {
     "data": {
      "text/html": [
       "<div>\n",
       "<style scoped>\n",
       "    .dataframe tbody tr th:only-of-type {\n",
       "        vertical-align: middle;\n",
       "    }\n",
       "\n",
       "    .dataframe tbody tr th {\n",
       "        vertical-align: top;\n",
       "    }\n",
       "\n",
       "    .dataframe thead th {\n",
       "        text-align: right;\n",
       "    }\n",
       "</style>\n",
       "<table border=\"1\" class=\"dataframe\">\n",
       "  <thead>\n",
       "    <tr style=\"text-align: right;\">\n",
       "      <th>label</th>\n",
       "      <th>0</th>\n",
       "      <th>1</th>\n",
       "      <th>2</th>\n",
       "      <th>3</th>\n",
       "      <th>4</th>\n",
       "      <th>5</th>\n",
       "      <th>6</th>\n",
       "      <th>7</th>\n",
       "      <th>8</th>\n",
       "      <th>9</th>\n",
       "    </tr>\n",
       "  </thead>\n",
       "  <tbody>\n",
       "    <tr>\n",
       "      <th>count</th>\n",
       "      <td>4132.000000</td>\n",
       "      <td>4684.000000</td>\n",
       "      <td>4177.000000</td>\n",
       "      <td>4351.000000</td>\n",
       "      <td>4072.000000</td>\n",
       "      <td>3795.000000</td>\n",
       "      <td>4137.0000</td>\n",
       "      <td>4401.000000</td>\n",
       "      <td>4063.000000</td>\n",
       "      <td>4188.000000</td>\n",
       "    </tr>\n",
       "    <tr>\n",
       "      <th>ratio</th>\n",
       "      <td>0.098381</td>\n",
       "      <td>0.111524</td>\n",
       "      <td>0.099452</td>\n",
       "      <td>0.103595</td>\n",
       "      <td>0.096952</td>\n",
       "      <td>0.090357</td>\n",
       "      <td>0.0985</td>\n",
       "      <td>0.104786</td>\n",
       "      <td>0.096738</td>\n",
       "      <td>0.099714</td>\n",
       "    </tr>\n",
       "  </tbody>\n",
       "</table>\n",
       "</div>"
      ],
      "text/plain": [
       "label            0            1            2            3            4  \\\n",
       "count  4132.000000  4684.000000  4177.000000  4351.000000  4072.000000   \n",
       "ratio     0.098381     0.111524     0.099452     0.103595     0.096952   \n",
       "\n",
       "label            5          6            7            8            9  \n",
       "count  3795.000000  4137.0000  4401.000000  4063.000000  4188.000000  \n",
       "ratio     0.090357     0.0985     0.104786     0.096738     0.099714  "
      ]
     },
     "execution_count": 5,
     "metadata": {},
     "output_type": "execute_result"
    }
   ],
   "source": [
    "numbers_dist = get_distribution(numbers.label)\n",
    "numbers_dist"
   ]
  },
  {
   "cell_type": "code",
   "execution_count": 6,
   "metadata": {},
   "outputs": [
    {
     "data": {
      "text/plain": [
       "<Axes: title={'center': 'Distribuição dos rótulos'}, ylabel='label'>"
      ]
     },
     "execution_count": 6,
     "metadata": {},
     "output_type": "execute_result"
    },
    {
     "data": {
      "image/png": "[encoded data removed]",
      "text/plain": [
       "<Figure size 640x480 with 1 Axes>"
      ]
     },
     "metadata": {},
     "output_type": "display_data"
    }
   ],
   "source": [
    "numbers_dist.loc[\"count\"].plot(kind=\"barh\", title=\"Distribuição dos rótulos\")"
   ]
  },
  {
   "cell_type": "markdown",
   "metadata": {},
   "source": [
    "## Divisão estratificada"
   ]
  },
  {
   "cell_type": "code",
   "execution_count": 7,
   "metadata": {},
   "outputs": [
    {
     "data": {
      "text/plain": [
       "((29400,), (12600,))"
      ]
     },
     "execution_count": 7,
     "metadata": {},
     "output_type": "execute_result"
    }
   ],
   "source": [
    "splitter = StratifiedShuffleSplit(1, test_size=0.3, random_state=SEED)\n",
    "((train_indexes, test_indexes),) = splitter.split(numbers, numbers.label)\n",
    "train_indexes.shape, test_indexes.shape"
   ]
  },
  {
   "cell_type": "code",
   "execution_count": 8,
   "metadata": {},
   "outputs": [
    {
     "data": {
      "text/html": [
       "<div>\n",
       "<style scoped>\n",
       "    .dataframe tbody tr th:only-of-type {\n",
       "        vertical-align: middle;\n",
       "    }\n",
       "\n",
       "    .dataframe tbody tr th {\n",
       "        vertical-align: top;\n",
       "    }\n",
       "\n",
       "    .dataframe thead th {\n",
       "        text-align: right;\n",
       "    }\n",
       "</style>\n",
       "<table border=\"1\" class=\"dataframe\">\n",
       "  <thead>\n",
       "    <tr style=\"text-align: right;\">\n",
       "      <th>label</th>\n",
       "      <th>0</th>\n",
       "      <th>1</th>\n",
       "      <th>2</th>\n",
       "      <th>3</th>\n",
       "      <th>4</th>\n",
       "      <th>5</th>\n",
       "      <th>6</th>\n",
       "      <th>7</th>\n",
       "      <th>8</th>\n",
       "      <th>9</th>\n",
       "    </tr>\n",
       "  </thead>\n",
       "  <tbody>\n",
       "    <tr>\n",
       "      <th>count</th>\n",
       "      <td>2892.000000</td>\n",
       "      <td>3279.000000</td>\n",
       "      <td>2924.000000</td>\n",
       "      <td>3046.000000</td>\n",
       "      <td>2850.000000</td>\n",
       "      <td>2656.00000</td>\n",
       "      <td>2896.000000</td>\n",
       "      <td>3081.000000</td>\n",
       "      <td>2844.000000</td>\n",
       "      <td>2932.000000</td>\n",
       "    </tr>\n",
       "    <tr>\n",
       "      <th>ratio</th>\n",
       "      <td>0.098367</td>\n",
       "      <td>0.111531</td>\n",
       "      <td>0.099456</td>\n",
       "      <td>0.103605</td>\n",
       "      <td>0.096939</td>\n",
       "      <td>0.09034</td>\n",
       "      <td>0.098503</td>\n",
       "      <td>0.104796</td>\n",
       "      <td>0.096735</td>\n",
       "      <td>0.099728</td>\n",
       "    </tr>\n",
       "  </tbody>\n",
       "</table>\n",
       "</div>"
      ],
      "text/plain": [
       "label            0            1            2            3            4  \\\n",
       "count  2892.000000  3279.000000  2924.000000  3046.000000  2850.000000   \n",
       "ratio     0.098367     0.111531     0.099456     0.103605     0.096939   \n",
       "\n",
       "label           5            6            7            8            9  \n",
       "count  2656.00000  2896.000000  3081.000000  2844.000000  2932.000000  \n",
       "ratio     0.09034     0.098503     0.104796     0.096735     0.099728  "
      ]
     },
     "execution_count": 8,
     "metadata": {},
     "output_type": "execute_result"
    }
   ],
   "source": [
    "stratified_train_dist = get_distribution(numbers.label[train_indexes])\n",
    "stratified_train_dist"
   ]
  },
  {
   "cell_type": "code",
   "execution_count": 9,
   "metadata": {},
   "outputs": [],
   "source": [
    "def compare_distributions(left: pd.DataFrame, right: pd.DataFrame) -> pd.DataFrame:\n",
    "    rate = right.T[\"count\"].sum() / left.T[\"count\"].sum() \n",
    "    return pd.DataFrame([\n",
    "        (left.T[\"count\"] * rate - right.T[\"count\"]).round(),\n",
    "        (left.T[\"count\"] * rate - right.T[\"count\"]).round() / left.T[\"count\"].sum()\n",
    "    ])"
   ]
  },
  {
   "cell_type": "code",
   "execution_count": 10,
   "metadata": {},
   "outputs": [
    {
     "data": {
      "text/html": [
       "<div>\n",
       "<style scoped>\n",
       "    .dataframe tbody tr th:only-of-type {\n",
       "        vertical-align: middle;\n",
       "    }\n",
       "\n",
       "    .dataframe tbody tr th {\n",
       "        vertical-align: top;\n",
       "    }\n",
       "\n",
       "    .dataframe thead th {\n",
       "        text-align: right;\n",
       "    }\n",
       "</style>\n",
       "<table border=\"1\" class=\"dataframe\">\n",
       "  <thead>\n",
       "    <tr style=\"text-align: right;\">\n",
       "      <th>label</th>\n",
       "      <th>0</th>\n",
       "      <th>1</th>\n",
       "      <th>2</th>\n",
       "      <th>3</th>\n",
       "      <th>4</th>\n",
       "      <th>5</th>\n",
       "      <th>6</th>\n",
       "      <th>7</th>\n",
       "      <th>8</th>\n",
       "      <th>9</th>\n",
       "    </tr>\n",
       "  </thead>\n",
       "  <tbody>\n",
       "    <tr>\n",
       "      <th>count</th>\n",
       "      <td>0.0</td>\n",
       "      <td>-0.0</td>\n",
       "      <td>-0.0</td>\n",
       "      <td>-0.0</td>\n",
       "      <td>0.0</td>\n",
       "      <td>0.0</td>\n",
       "      <td>-0.0</td>\n",
       "      <td>-0.0</td>\n",
       "      <td>0.0</td>\n",
       "      <td>-0.0</td>\n",
       "    </tr>\n",
       "    <tr>\n",
       "      <th>count</th>\n",
       "      <td>0.0</td>\n",
       "      <td>-0.0</td>\n",
       "      <td>-0.0</td>\n",
       "      <td>-0.0</td>\n",
       "      <td>0.0</td>\n",
       "      <td>0.0</td>\n",
       "      <td>-0.0</td>\n",
       "      <td>-0.0</td>\n",
       "      <td>0.0</td>\n",
       "      <td>-0.0</td>\n",
       "    </tr>\n",
       "  </tbody>\n",
       "</table>\n",
       "</div>"
      ],
      "text/plain": [
       "label    0    1    2    3    4    5    6    7    8    9\n",
       "count  0.0 -0.0 -0.0 -0.0  0.0  0.0 -0.0 -0.0  0.0 -0.0\n",
       "count  0.0 -0.0 -0.0 -0.0  0.0  0.0 -0.0 -0.0  0.0 -0.0"
      ]
     },
     "execution_count": 10,
     "metadata": {},
     "output_type": "execute_result"
    }
   ],
   "source": [
    "compare_distributions(numbers_dist, stratified_train_dist)"
   ]
  },
  {
   "cell_type": "markdown",
   "metadata": {},
   "source": [
    "Com o arredondamento, praticamente sem diferença nas distribuições."
   ]
  },
  {
   "cell_type": "markdown",
   "metadata": {},
   "source": [
    "## Divisão aleatória"
   ]
  },
  {
   "cell_type": "code",
   "execution_count": 11,
   "metadata": {},
   "outputs": [
    {
     "data": {
      "text/plain": [
       "((29400, 785), (12600, 785))"
      ]
     },
     "execution_count": 11,
     "metadata": {},
     "output_type": "execute_result"
    }
   ],
   "source": [
    "train_numbers, test_numbers = train_test_split(numbers, test_size=0.3, random_state=SEED)\n",
    "train_numbers.shape, test_numbers.shape"
   ]
  },
  {
   "cell_type": "code",
   "execution_count": 12,
   "metadata": {},
   "outputs": [
    {
     "data": {
      "text/html": [
       "<div>\n",
       "<style scoped>\n",
       "    .dataframe tbody tr th:only-of-type {\n",
       "        vertical-align: middle;\n",
       "    }\n",
       "\n",
       "    .dataframe tbody tr th {\n",
       "        vertical-align: top;\n",
       "    }\n",
       "\n",
       "    .dataframe thead th {\n",
       "        text-align: right;\n",
       "    }\n",
       "</style>\n",
       "<table border=\"1\" class=\"dataframe\">\n",
       "  <thead>\n",
       "    <tr style=\"text-align: right;\">\n",
       "      <th>label</th>\n",
       "      <th>0</th>\n",
       "      <th>1</th>\n",
       "      <th>2</th>\n",
       "      <th>3</th>\n",
       "      <th>4</th>\n",
       "      <th>5</th>\n",
       "      <th>6</th>\n",
       "      <th>7</th>\n",
       "      <th>8</th>\n",
       "      <th>9</th>\n",
       "    </tr>\n",
       "  </thead>\n",
       "  <tbody>\n",
       "    <tr>\n",
       "      <th>count</th>\n",
       "      <td>2932.000000</td>\n",
       "      <td>3295.000000</td>\n",
       "      <td>2883.000000</td>\n",
       "      <td>2996.000000</td>\n",
       "      <td>2850.000000</td>\n",
       "      <td>2710.000000</td>\n",
       "      <td>2881.000000</td>\n",
       "      <td>3042.000000</td>\n",
       "      <td>2854.000000</td>\n",
       "      <td>2957.000000</td>\n",
       "    </tr>\n",
       "    <tr>\n",
       "      <th>ratio</th>\n",
       "      <td>0.099728</td>\n",
       "      <td>0.112075</td>\n",
       "      <td>0.098061</td>\n",
       "      <td>0.101905</td>\n",
       "      <td>0.096939</td>\n",
       "      <td>0.092177</td>\n",
       "      <td>0.097993</td>\n",
       "      <td>0.103469</td>\n",
       "      <td>0.097075</td>\n",
       "      <td>0.100578</td>\n",
       "    </tr>\n",
       "  </tbody>\n",
       "</table>\n",
       "</div>"
      ],
      "text/plain": [
       "label            0            1            2            3            4  \\\n",
       "count  2932.000000  3295.000000  2883.000000  2996.000000  2850.000000   \n",
       "ratio     0.099728     0.112075     0.098061     0.101905     0.096939   \n",
       "\n",
       "label            5            6            7            8            9  \n",
       "count  2710.000000  2881.000000  3042.000000  2854.000000  2957.000000  \n",
       "ratio     0.092177     0.097993     0.103469     0.097075     0.100578  "
      ]
     },
     "execution_count": 12,
     "metadata": {},
     "output_type": "execute_result"
    }
   ],
   "source": [
    "random_train_dist = get_distribution(train_numbers.label)\n",
    "random_train_dist"
   ]
  },
  {
   "cell_type": "code",
   "execution_count": 13,
   "metadata": {},
   "outputs": [
    {
     "data": {
      "text/html": [
       "<div>\n",
       "<style scoped>\n",
       "    .dataframe tbody tr th:only-of-type {\n",
       "        vertical-align: middle;\n",
       "    }\n",
       "\n",
       "    .dataframe tbody tr th {\n",
       "        vertical-align: top;\n",
       "    }\n",
       "\n",
       "    .dataframe thead th {\n",
       "        text-align: right;\n",
       "    }\n",
       "</style>\n",
       "<table border=\"1\" class=\"dataframe\">\n",
       "  <thead>\n",
       "    <tr style=\"text-align: right;\">\n",
       "      <th>label</th>\n",
       "      <th>0</th>\n",
       "      <th>1</th>\n",
       "      <th>2</th>\n",
       "      <th>3</th>\n",
       "      <th>4</th>\n",
       "      <th>5</th>\n",
       "      <th>6</th>\n",
       "      <th>7</th>\n",
       "      <th>8</th>\n",
       "      <th>9</th>\n",
       "    </tr>\n",
       "  </thead>\n",
       "  <tbody>\n",
       "    <tr>\n",
       "      <th>count</th>\n",
       "      <td>-40.000000</td>\n",
       "      <td>-16.000000</td>\n",
       "      <td>41.000000</td>\n",
       "      <td>50.00000</td>\n",
       "      <td>0.0</td>\n",
       "      <td>-54.000000</td>\n",
       "      <td>15.000000</td>\n",
       "      <td>39.000000</td>\n",
       "      <td>-10.000000</td>\n",
       "      <td>-25.000000</td>\n",
       "    </tr>\n",
       "    <tr>\n",
       "      <th>count</th>\n",
       "      <td>-0.000952</td>\n",
       "      <td>-0.000381</td>\n",
       "      <td>0.000976</td>\n",
       "      <td>0.00119</td>\n",
       "      <td>0.0</td>\n",
       "      <td>-0.001286</td>\n",
       "      <td>0.000357</td>\n",
       "      <td>0.000929</td>\n",
       "      <td>-0.000238</td>\n",
       "      <td>-0.000595</td>\n",
       "    </tr>\n",
       "  </tbody>\n",
       "</table>\n",
       "</div>"
      ],
      "text/plain": [
       "label          0          1          2         3    4          5          6  \\\n",
       "count -40.000000 -16.000000  41.000000  50.00000  0.0 -54.000000  15.000000   \n",
       "count  -0.000952  -0.000381   0.000976   0.00119  0.0  -0.001286   0.000357   \n",
       "\n",
       "label          7          8          9  \n",
       "count  39.000000 -10.000000 -25.000000  \n",
       "count   0.000929  -0.000238  -0.000595  "
      ]
     },
     "execution_count": 13,
     "metadata": {},
     "output_type": "execute_result"
    }
   ],
   "source": [
    "compare_distributions(numbers_dist, random_train_dist)"
   ]
  },
  {
   "cell_type": "code",
   "execution_count": 14,
   "metadata": {},
   "outputs": [],
   "source": [
    "from hashlib import md5"
   ]
  },
  {
   "cell_type": "markdown",
   "metadata": {},
   "source": [
    "Pequena diferença nas distribuições.  \n",
    "Quanto maior o conjunto de dados e a quantidade de itens por rótulo, menor a diferença percentual."
   ]
  },
  {
   "cell_type": "markdown",
   "metadata": {},
   "source": [
    "## Divisão dos conjuntos por hash"
   ]
  },
  {
   "cell_type": "code",
   "execution_count": 15,
   "metadata": {},
   "outputs": [
    {
     "data": {
      "text/plain": [
       "340282366920938463463374607431768211455"
      ]
     },
     "execution_count": 15,
     "metadata": {},
     "output_type": "execute_result"
    }
   ],
   "source": [
    "digest_size = md5(b\"\").digest_size\n",
    "max_hash = int(\"f\" * digest_size * 2, 16)\n",
    "max_hash"
   ]
  },
  {
   "cell_type": "code",
   "execution_count": 16,
   "metadata": {},
   "outputs": [
    {
     "data": {
      "text/plain": [
       "'4ccccccccccccc000000000000000000'"
      ]
     },
     "execution_count": 16,
     "metadata": {},
     "output_type": "execute_result"
    }
   ],
   "source": [
    "test_size = 0.3\n",
    "hash_split = hex(int(max_hash * test_size))[2:]\n",
    "hash_split"
   ]
  },
  {
   "cell_type": "code",
   "execution_count": 17,
   "metadata": {},
   "outputs": [
    {
     "data": {
      "text/plain": [
       "((29584, 785), (12416, 785))"
      ]
     },
     "execution_count": 17,
     "metadata": {},
     "output_type": "execute_result"
    }
   ],
   "source": [
    "numbers_bytes = np.apply_along_axis(lambda x: x.tobytes(), axis=1, arr=numbers.to_numpy())\n",
    "numbers_hashes = np.array([md5(x).hexdigest() for x in numbers_bytes])\n",
    "train_filter = numbers_hashes > hash_split\n",
    "train_hash_numbers = numbers[train_filter]\n",
    "test_hash_numbers = numbers[~train_filter]\n",
    "train_hash_numbers.shape, test_hash_numbers.shape"
   ]
  },
  {
   "cell_type": "code",
   "execution_count": 18,
   "metadata": {},
   "outputs": [
    {
     "data": {
      "text/plain": [
       "0.7043809523809523"
      ]
     },
     "execution_count": 18,
     "metadata": {},
     "output_type": "execute_result"
    }
   ],
   "source": [
    "train_hash_numbers.shape[0] / numbers.shape[0]"
   ]
  },
  {
   "cell_type": "code",
   "execution_count": 19,
   "metadata": {},
   "outputs": [
    {
     "data": {
      "text/html": [
       "<div>\n",
       "<style scoped>\n",
       "    .dataframe tbody tr th:only-of-type {\n",
       "        vertical-align: middle;\n",
       "    }\n",
       "\n",
       "    .dataframe tbody tr th {\n",
       "        vertical-align: top;\n",
       "    }\n",
       "\n",
       "    .dataframe thead th {\n",
       "        text-align: right;\n",
       "    }\n",
       "</style>\n",
       "<table border=\"1\" class=\"dataframe\">\n",
       "  <thead>\n",
       "    <tr style=\"text-align: right;\">\n",
       "      <th>label</th>\n",
       "      <th>0</th>\n",
       "      <th>1</th>\n",
       "      <th>2</th>\n",
       "      <th>3</th>\n",
       "      <th>4</th>\n",
       "      <th>5</th>\n",
       "      <th>6</th>\n",
       "      <th>7</th>\n",
       "      <th>8</th>\n",
       "      <th>9</th>\n",
       "    </tr>\n",
       "  </thead>\n",
       "  <tbody>\n",
       "    <tr>\n",
       "      <th>count</th>\n",
       "      <td>2942.000000</td>\n",
       "      <td>3332.000000</td>\n",
       "      <td>2940.000000</td>\n",
       "      <td>3055.000000</td>\n",
       "      <td>2851.00000</td>\n",
       "      <td>2627.000000</td>\n",
       "      <td>2864.000000</td>\n",
       "      <td>3129.000000</td>\n",
       "      <td>2872.00000</td>\n",
       "      <td>2972.00000</td>\n",
       "    </tr>\n",
       "    <tr>\n",
       "      <th>ratio</th>\n",
       "      <td>0.099446</td>\n",
       "      <td>0.112628</td>\n",
       "      <td>0.099378</td>\n",
       "      <td>0.103265</td>\n",
       "      <td>0.09637</td>\n",
       "      <td>0.088798</td>\n",
       "      <td>0.096809</td>\n",
       "      <td>0.105767</td>\n",
       "      <td>0.09708</td>\n",
       "      <td>0.10046</td>\n",
       "    </tr>\n",
       "  </tbody>\n",
       "</table>\n",
       "</div>"
      ],
      "text/plain": [
       "label            0            1            2            3           4  \\\n",
       "count  2942.000000  3332.000000  2940.000000  3055.000000  2851.00000   \n",
       "ratio     0.099446     0.112628     0.099378     0.103265     0.09637   \n",
       "\n",
       "label            5            6            7           8           9  \n",
       "count  2627.000000  2864.000000  3129.000000  2872.00000  2972.00000  \n",
       "ratio     0.088798     0.096809     0.105767     0.09708     0.10046  "
      ]
     },
     "execution_count": 19,
     "metadata": {},
     "output_type": "execute_result"
    }
   ],
   "source": [
    "train_hash_dist = get_distribution(train_hash_numbers.label)\n",
    "train_hash_dist"
   ]
  },
  {
   "cell_type": "code",
   "execution_count": 20,
   "metadata": {},
   "outputs": [
    {
     "data": {
      "text/html": [
       "<div>\n",
       "<style scoped>\n",
       "    .dataframe tbody tr th:only-of-type {\n",
       "        vertical-align: middle;\n",
       "    }\n",
       "\n",
       "    .dataframe tbody tr th {\n",
       "        vertical-align: top;\n",
       "    }\n",
       "\n",
       "    .dataframe thead th {\n",
       "        text-align: right;\n",
       "    }\n",
       "</style>\n",
       "<table border=\"1\" class=\"dataframe\">\n",
       "  <thead>\n",
       "    <tr style=\"text-align: right;\">\n",
       "      <th>label</th>\n",
       "      <th>0</th>\n",
       "      <th>1</th>\n",
       "      <th>2</th>\n",
       "      <th>3</th>\n",
       "      <th>4</th>\n",
       "      <th>5</th>\n",
       "      <th>6</th>\n",
       "      <th>7</th>\n",
       "      <th>8</th>\n",
       "      <th>9</th>\n",
       "    </tr>\n",
       "  </thead>\n",
       "  <tbody>\n",
       "    <tr>\n",
       "      <th>count</th>\n",
       "      <td>-31.000000</td>\n",
       "      <td>-33.000000</td>\n",
       "      <td>2.000000</td>\n",
       "      <td>10.000000</td>\n",
       "      <td>17.000000</td>\n",
       "      <td>46.000000</td>\n",
       "      <td>50.00000</td>\n",
       "      <td>-29.00000</td>\n",
       "      <td>-10.000000</td>\n",
       "      <td>-22.000000</td>\n",
       "    </tr>\n",
       "    <tr>\n",
       "      <th>count</th>\n",
       "      <td>-0.000738</td>\n",
       "      <td>-0.000786</td>\n",
       "      <td>0.000048</td>\n",
       "      <td>0.000238</td>\n",
       "      <td>0.000405</td>\n",
       "      <td>0.001095</td>\n",
       "      <td>0.00119</td>\n",
       "      <td>-0.00069</td>\n",
       "      <td>-0.000238</td>\n",
       "      <td>-0.000524</td>\n",
       "    </tr>\n",
       "  </tbody>\n",
       "</table>\n",
       "</div>"
      ],
      "text/plain": [
       "label          0          1         2          3          4          5  \\\n",
       "count -31.000000 -33.000000  2.000000  10.000000  17.000000  46.000000   \n",
       "count  -0.000738  -0.000786  0.000048   0.000238   0.000405   0.001095   \n",
       "\n",
       "label         6         7          8          9  \n",
       "count  50.00000 -29.00000 -10.000000 -22.000000  \n",
       "count   0.00119  -0.00069  -0.000238  -0.000524  "
      ]
     },
     "execution_count": 20,
     "metadata": {},
     "output_type": "execute_result"
    }
   ],
   "source": [
    "compare_distributions(numbers_dist, train_hash_dist)"
   ]
  },
  {
   "cell_type": "markdown",
   "metadata": {},
   "source": [
    "Fácil de adicionar novos dados na base sem misturar dados de treino e dados de teste."
   ]
  },
  {
   "cell_type": "markdown",
   "metadata": {},
   "source": [
    "# Divisão dos conjuntos de treino e teste"
   ]
  },
  {
   "cell_type": "code",
   "execution_count": 21,
   "metadata": {},
   "outputs": [
    {
     "data": {
      "text/plain": [
       "((29584, 784), (29584, 1))"
      ]
     },
     "execution_count": 21,
     "metadata": {},
     "output_type": "execute_result"
    }
   ],
   "source": [
    "targets = [\"label\"]\n",
    "train, test = train_hash_numbers, test_hash_numbers\n",
    "filter_fields = train.columns.isin(targets)\n",
    "x, y = train.loc[:, ~filter_fields], train.loc[:, filter_fields]\n",
    "test_x, test_y = test.loc[:, ~filter_fields], test.loc[:, filter_fields]\n",
    "x.shape, y.shape"
   ]
  },
  {
   "cell_type": "markdown",
   "metadata": {},
   "source": [
    "## Bases de dados desbalanceadas"
   ]
  },
  {
   "cell_type": "code",
   "execution_count": 22,
   "metadata": {},
   "outputs": [],
   "source": [
    "labels = list()\n",
    "labels_counts = y[\"label\"].value_counts()\n",
    "for label in range(10):\n",
    "    filtered_numbers = y[y[\"label\"] == label]\n",
    "    labels.append(filtered_numbers.sample(labels_counts.min(), replace=False, random_state=SEED))\n",
    "numbers_downsample = pd.concat(labels, axis=0)"
   ]
  },
  {
   "cell_type": "code",
   "execution_count": 23,
   "metadata": {},
   "outputs": [],
   "source": [
    "labels = list()\n",
    "labels_counts = y[\"label\"].value_counts()\n",
    "for label in range(10):\n",
    "    filtered_numbers = y[y[\"label\"] == label]\n",
    "    labels.append(filtered_numbers.sample(labels_counts.max(), replace=True, random_state=SEED))\n",
    "numbers_upsample = pd.concat(labels, axis=0)"
   ]
  },
  {
   "cell_type": "code",
   "execution_count": 24,
   "metadata": {},
   "outputs": [
    {
     "data": {
      "image/png": "[encoded data removed]",
      "text/plain": [
       "<Figure size 800x400 with 3 Axes>"
      ]
     },
     "metadata": {},
     "output_type": "display_data"
    }
   ],
   "source": [
    "fig, axes = plt.subplots(1, 3, sharey=True, figsize=(8, 4))\n",
    "y.label.value_counts().sort_index().plot(kind=\"bar\", ax=axes[0], title=\"Original\")\n",
    "numbers_downsample.label.value_counts().sort_index().plot(kind=\"bar\", ax=axes[1], title=\"Redução\")\n",
    "numbers_upsample.label.value_counts().sort_index().plot(kind=\"bar\", ax=axes[2], title=\"Aumento (cópia simples)\")\n",
    "for ax in axes:\n",
    "    ax.axhline(y.shape[0] / 10, c=\"r\")\n",
    "fig.suptitle(\"Distribuição das classes\")\n",
    "fig.tight_layout()\n",
    "plt.show()"
   ]
  },
  {
   "cell_type": "code",
   "execution_count": 25,
   "metadata": {},
   "outputs": [
    {
     "name": "stderr",
     "output_type": "stream",
     "text": [
      "/home/mascote/miniconda3/envs/workshop/lib/python3.11/site-packages/sklearn/linear_model/_logistic.py:469: ConvergenceWarning: lbfgs failed to converge (status=1):\n",
      "STOP: TOTAL NO. of ITERATIONS REACHED LIMIT.\n",
      "\n",
      "Increase the number of iterations (max_iter) or scale the data as shown in:\n",
      "    https://scikit-learn.org/stable/modules/preprocessing.html\n",
      "Please also refer to the documentation for alternative solver options:\n",
      "    https://scikit-learn.org/stable/modules/linear_model.html#logistic-regression\n",
      "  n_iter_i = _check_optimize_result(\n",
      "/home/mascote/miniconda3/envs/workshop/lib/python3.11/site-packages/sklearn/linear_model/_logistic.py:469: ConvergenceWarning: lbfgs failed to converge (status=1):\n",
      "STOP: TOTAL NO. of ITERATIONS REACHED LIMIT.\n",
      "\n",
      "Increase the number of iterations (max_iter) or scale the data as shown in:\n",
      "    https://scikit-learn.org/stable/modules/preprocessing.html\n",
      "Please also refer to the documentation for alternative solver options:\n",
      "    https://scikit-learn.org/stable/modules/linear_model.html#logistic-regression\n",
      "  n_iter_i = _check_optimize_result(\n",
      "/home/mascote/miniconda3/envs/workshop/lib/python3.11/site-packages/sklearn/linear_model/_logistic.py:469: ConvergenceWarning: lbfgs failed to converge (status=1):\n",
      "STOP: TOTAL NO. of ITERATIONS REACHED LIMIT.\n",
      "\n",
      "Increase the number of iterations (max_iter) or scale the data as shown in:\n",
      "    https://scikit-learn.org/stable/modules/preprocessing.html\n",
      "Please also refer to the documentation for alternative solver options:\n",
      "    https://scikit-learn.org/stable/modules/linear_model.html#logistic-regression\n",
      "  n_iter_i = _check_optimize_result(\n",
      "/home/mascote/miniconda3/envs/workshop/lib/python3.11/site-packages/sklearn/linear_model/_logistic.py:469: ConvergenceWarning: lbfgs failed to converge (status=1):\n",
      "STOP: TOTAL NO. of ITERATIONS REACHED LIMIT.\n",
      "\n",
      "Increase the number of iterations (max_iter) or scale the data as shown in:\n",
      "    https://scikit-learn.org/stable/modules/preprocessing.html\n",
      "Please also refer to the documentation for alternative solver options:\n",
      "    https://scikit-learn.org/stable/modules/linear_model.html#logistic-regression\n",
      "  n_iter_i = _check_optimize_result(\n",
      "/home/mascote/miniconda3/envs/workshop/lib/python3.11/site-packages/sklearn/linear_model/_logistic.py:469: ConvergenceWarning: lbfgs failed to converge (status=1):\n",
      "STOP: TOTAL NO. of ITERATIONS REACHED LIMIT.\n",
      "\n",
      "Increase the number of iterations (max_iter) or scale the data as shown in:\n",
      "    https://scikit-learn.org/stable/modules/preprocessing.html\n",
      "Please also refer to the documentation for alternative solver options:\n",
      "    https://scikit-learn.org/stable/modules/linear_model.html#logistic-regression\n",
      "  n_iter_i = _check_optimize_result(\n"
     ]
    }
   ],
   "source": [
    "base_reference_model = LogisticRegression(random_state=SEED)\n",
    "cv_result = cross_validate(base_reference_model, x, y.label, cv=5, return_estimator=True)\n",
    "reference_model = cv_result[\"estimator\"][cv_result[\"test_score\"].argmax()]"
   ]
  },
  {
   "cell_type": "code",
   "execution_count": 26,
   "metadata": {},
   "outputs": [
    {
     "name": "stderr",
     "output_type": "stream",
     "text": [
      "/home/mascote/miniconda3/envs/workshop/lib/python3.11/site-packages/sklearn/linear_model/_logistic.py:469: ConvergenceWarning: lbfgs failed to converge (status=1):\n",
      "STOP: TOTAL NO. of ITERATIONS REACHED LIMIT.\n",
      "\n",
      "Increase the number of iterations (max_iter) or scale the data as shown in:\n",
      "    https://scikit-learn.org/stable/modules/preprocessing.html\n",
      "Please also refer to the documentation for alternative solver options:\n",
      "    https://scikit-learn.org/stable/modules/linear_model.html#logistic-regression\n",
      "  n_iter_i = _check_optimize_result(\n",
      "/home/mascote/miniconda3/envs/workshop/lib/python3.11/site-packages/sklearn/linear_model/_logistic.py:469: ConvergenceWarning: lbfgs failed to converge (status=1):\n",
      "STOP: TOTAL NO. of ITERATIONS REACHED LIMIT.\n",
      "\n",
      "Increase the number of iterations (max_iter) or scale the data as shown in:\n",
      "    https://scikit-learn.org/stable/modules/preprocessing.html\n",
      "Please also refer to the documentation for alternative solver options:\n",
      "    https://scikit-learn.org/stable/modules/linear_model.html#logistic-regression\n",
      "  n_iter_i = _check_optimize_result(\n",
      "/home/mascote/miniconda3/envs/workshop/lib/python3.11/site-packages/sklearn/linear_model/_logistic.py:469: ConvergenceWarning: lbfgs failed to converge (status=1):\n",
      "STOP: TOTAL NO. of ITERATIONS REACHED LIMIT.\n",
      "\n",
      "Increase the number of iterations (max_iter) or scale the data as shown in:\n",
      "    https://scikit-learn.org/stable/modules/preprocessing.html\n",
      "Please also refer to the documentation for alternative solver options:\n",
      "    https://scikit-learn.org/stable/modules/linear_model.html#logistic-regression\n",
      "  n_iter_i = _check_optimize_result(\n",
      "/home/mascote/miniconda3/envs/workshop/lib/python3.11/site-packages/sklearn/linear_model/_logistic.py:469: ConvergenceWarning: lbfgs failed to converge (status=1):\n",
      "STOP: TOTAL NO. of ITERATIONS REACHED LIMIT.\n",
      "\n",
      "Increase the number of iterations (max_iter) or scale the data as shown in:\n",
      "    https://scikit-learn.org/stable/modules/preprocessing.html\n",
      "Please also refer to the documentation for alternative solver options:\n",
      "    https://scikit-learn.org/stable/modules/linear_model.html#logistic-regression\n",
      "  n_iter_i = _check_optimize_result(\n",
      "/home/mascote/miniconda3/envs/workshop/lib/python3.11/site-packages/sklearn/linear_model/_logistic.py:469: ConvergenceWarning: lbfgs failed to converge (status=1):\n",
      "STOP: TOTAL NO. of ITERATIONS REACHED LIMIT.\n",
      "\n",
      "Increase the number of iterations (max_iter) or scale the data as shown in:\n",
      "    https://scikit-learn.org/stable/modules/preprocessing.html\n",
      "Please also refer to the documentation for alternative solver options:\n",
      "    https://scikit-learn.org/stable/modules/linear_model.html#logistic-regression\n",
      "  n_iter_i = _check_optimize_result(\n"
     ]
    }
   ],
   "source": [
    "downsample_x = x.loc[numbers_downsample.index]\n",
    "downsample_y = y.loc[numbers_downsample.index]\n",
    "base_reference_model = LogisticRegression(random_state=SEED)\n",
    "cv_result = cross_validate(base_reference_model, downsample_x, downsample_y.label, cv=5, return_estimator=True)\n",
    "downsample_model = cv_result[\"estimator\"][cv_result[\"test_score\"].argmax()]"
   ]
  },
  {
   "cell_type": "code",
   "execution_count": 27,
   "metadata": {},
   "outputs": [
    {
     "name": "stderr",
     "output_type": "stream",
     "text": [
      "/home/mascote/miniconda3/envs/workshop/lib/python3.11/site-packages/sklearn/linear_model/_logistic.py:469: ConvergenceWarning: lbfgs failed to converge (status=1):\n",
      "STOP: TOTAL NO. of ITERATIONS REACHED LIMIT.\n",
      "\n",
      "Increase the number of iterations (max_iter) or scale the data as shown in:\n",
      "    https://scikit-learn.org/stable/modules/preprocessing.html\n",
      "Please also refer to the documentation for alternative solver options:\n",
      "    https://scikit-learn.org/stable/modules/linear_model.html#logistic-regression\n",
      "  n_iter_i = _check_optimize_result(\n",
      "/home/mascote/miniconda3/envs/workshop/lib/python3.11/site-packages/sklearn/linear_model/_logistic.py:469: ConvergenceWarning: lbfgs failed to converge (status=1):\n",
      "STOP: TOTAL NO. of ITERATIONS REACHED LIMIT.\n",
      "\n",
      "Increase the number of iterations (max_iter) or scale the data as shown in:\n",
      "    https://scikit-learn.org/stable/modules/preprocessing.html\n",
      "Please also refer to the documentation for alternative solver options:\n",
      "    https://scikit-learn.org/stable/modules/linear_model.html#logistic-regression\n",
      "  n_iter_i = _check_optimize_result(\n",
      "/home/mascote/miniconda3/envs/workshop/lib/python3.11/site-packages/sklearn/linear_model/_logistic.py:469: ConvergenceWarning: lbfgs failed to converge (status=1):\n",
      "STOP: TOTAL NO. of ITERATIONS REACHED LIMIT.\n",
      "\n",
      "Increase the number of iterations (max_iter) or scale the data as shown in:\n",
      "    https://scikit-learn.org/stable/modules/preprocessing.html\n",
      "Please also refer to the documentation for alternative solver options:\n",
      "    https://scikit-learn.org/stable/modules/linear_model.html#logistic-regression\n",
      "  n_iter_i = _check_optimize_result(\n",
      "/home/mascote/miniconda3/envs/workshop/lib/python3.11/site-packages/sklearn/linear_model/_logistic.py:469: ConvergenceWarning: lbfgs failed to converge (status=1):\n",
      "STOP: TOTAL NO. of ITERATIONS REACHED LIMIT.\n",
      "\n",
      "Increase the number of iterations (max_iter) or scale the data as shown in:\n",
      "    https://scikit-learn.org/stable/modules/preprocessing.html\n",
      "Please also refer to the documentation for alternative solver options:\n",
      "    https://scikit-learn.org/stable/modules/linear_model.html#logistic-regression\n",
      "  n_iter_i = _check_optimize_result(\n",
      "/home/mascote/miniconda3/envs/workshop/lib/python3.11/site-packages/sklearn/linear_model/_logistic.py:469: ConvergenceWarning: lbfgs failed to converge (status=1):\n",
      "STOP: TOTAL NO. of ITERATIONS REACHED LIMIT.\n",
      "\n",
      "Increase the number of iterations (max_iter) or scale the data as shown in:\n",
      "    https://scikit-learn.org/stable/modules/preprocessing.html\n",
      "Please also refer to the documentation for alternative solver options:\n",
      "    https://scikit-learn.org/stable/modules/linear_model.html#logistic-regression\n",
      "  n_iter_i = _check_optimize_result(\n"
     ]
    }
   ],
   "source": [
    "upsample_x = x.loc[numbers_upsample.index]\n",
    "upsample_y = y.loc[numbers_upsample.index]\n",
    "base_reference_model = LogisticRegression(random_state=SEED)\n",
    "cv_result = cross_validate(base_reference_model, upsample_x, upsample_y.label, cv=5, return_estimator=True)\n",
    "upsample_model = cv_result[\"estimator\"][cv_result[\"test_score\"].argmax()]"
   ]
  },
  {
   "cell_type": "code",
   "execution_count": 28,
   "metadata": {},
   "outputs": [
    {
     "data": {
      "text/plain": [
       "array([0.9378, 0.9364, 0.9292])"
      ]
     },
     "execution_count": 28,
     "metadata": {},
     "output_type": "execute_result"
    }
   ],
   "source": [
    "np.array((reference_model.score(x, y), downsample_model.score(x, y), upsample_model.score(x, y))).round(4)"
   ]
  },
  {
   "cell_type": "code",
   "execution_count": 29,
   "metadata": {},
   "outputs": [
    {
     "data": {
      "text/plain": [
       "array([0.9096, 0.9079, 0.8971])"
      ]
     },
     "execution_count": 29,
     "metadata": {},
     "output_type": "execute_result"
    }
   ],
   "source": [
    "np.array((reference_model.score(test_x, test_y), downsample_model.score(test_x, test_y), upsample_model.score(test_x, test_y)),).round(4)"
   ]
  },
  {
   "cell_type": "code",
   "execution_count": 30,
   "metadata": {},
   "outputs": [
    {
     "name": "stderr",
     "output_type": "stream",
     "text": [
      "/home/mascote/miniconda3/envs/workshop/lib/python3.11/site-packages/sklearn/linear_model/_logistic.py:469: ConvergenceWarning: lbfgs failed to converge (status=1):\n",
      "STOP: TOTAL NO. of ITERATIONS REACHED LIMIT.\n",
      "\n",
      "Increase the number of iterations (max_iter) or scale the data as shown in:\n",
      "    https://scikit-learn.org/stable/modules/preprocessing.html\n",
      "Please also refer to the documentation for alternative solver options:\n",
      "    https://scikit-learn.org/stable/modules/linear_model.html#logistic-regression\n",
      "  n_iter_i = _check_optimize_result(\n",
      "/home/mascote/miniconda3/envs/workshop/lib/python3.11/site-packages/sklearn/linear_model/_logistic.py:469: ConvergenceWarning: lbfgs failed to converge (status=1):\n",
      "STOP: TOTAL NO. of ITERATIONS REACHED LIMIT.\n",
      "\n",
      "Increase the number of iterations (max_iter) or scale the data as shown in:\n",
      "    https://scikit-learn.org/stable/modules/preprocessing.html\n",
      "Please also refer to the documentation for alternative solver options:\n",
      "    https://scikit-learn.org/stable/modules/linear_model.html#logistic-regression\n",
      "  n_iter_i = _check_optimize_result(\n",
      "/home/mascote/miniconda3/envs/workshop/lib/python3.11/site-packages/sklearn/linear_model/_logistic.py:469: ConvergenceWarning: lbfgs failed to converge (status=1):\n",
      "STOP: TOTAL NO. of ITERATIONS REACHED LIMIT.\n",
      "\n",
      "Increase the number of iterations (max_iter) or scale the data as shown in:\n",
      "    https://scikit-learn.org/stable/modules/preprocessing.html\n",
      "Please also refer to the documentation for alternative solver options:\n",
      "    https://scikit-learn.org/stable/modules/linear_model.html#logistic-regression\n",
      "  n_iter_i = _check_optimize_result(\n",
      "/home/mascote/miniconda3/envs/workshop/lib/python3.11/site-packages/sklearn/linear_model/_logistic.py:469: ConvergenceWarning: lbfgs failed to converge (status=1):\n",
      "STOP: TOTAL NO. of ITERATIONS REACHED LIMIT.\n",
      "\n",
      "Increase the number of iterations (max_iter) or scale the data as shown in:\n",
      "    https://scikit-learn.org/stable/modules/preprocessing.html\n",
      "Please also refer to the documentation for alternative solver options:\n",
      "    https://scikit-learn.org/stable/modules/linear_model.html#logistic-regression\n",
      "  n_iter_i = _check_optimize_result(\n",
      "/home/mascote/miniconda3/envs/workshop/lib/python3.11/site-packages/sklearn/linear_model/_logistic.py:469: ConvergenceWarning: lbfgs failed to converge (status=1):\n",
      "STOP: TOTAL NO. of ITERATIONS REACHED LIMIT.\n",
      "\n",
      "Increase the number of iterations (max_iter) or scale the data as shown in:\n",
      "    https://scikit-learn.org/stable/modules/preprocessing.html\n",
      "Please also refer to the documentation for alternative solver options:\n",
      "    https://scikit-learn.org/stable/modules/linear_model.html#logistic-regression\n",
      "  n_iter_i = _check_optimize_result(\n"
     ]
    }
   ],
   "source": [
    "base_reference_model = LogisticRegression(random_state=SEED, class_weight=\"balanced\")\n",
    "cv_result = cross_validate(base_reference_model, x, y.label, cv=5, return_estimator=True)\n",
    "balanced_model = cv_result[\"estimator\"][cv_result[\"test_score\"].argmax()]"
   ]
  },
  {
   "cell_type": "code",
   "execution_count": 31,
   "metadata": {},
   "outputs": [
    {
     "data": {
      "text/plain": [
       "array([0.9389, 0.9093])"
      ]
     },
     "execution_count": 31,
     "metadata": {},
     "output_type": "execute_result"
    }
   ],
   "source": [
    "np.array((balanced_model.score(x, y), balanced_model.score(test_x, test_y))).round(4)"
   ]
  },
  {
   "cell_type": "code",
   "execution_count": 32,
   "metadata": {},
   "outputs": [
    {
     "data": {
      "text/html": [
       "<div>\n",
       "<style scoped>\n",
       "    .dataframe tbody tr th:only-of-type {\n",
       "        vertical-align: middle;\n",
       "    }\n",
       "\n",
       "    .dataframe tbody tr th {\n",
       "        vertical-align: top;\n",
       "    }\n",
       "\n",
       "    .dataframe thead th {\n",
       "        text-align: right;\n",
       "    }\n",
       "</style>\n",
       "<table border=\"1\" class=\"dataframe\">\n",
       "  <thead>\n",
       "    <tr style=\"text-align: right;\">\n",
       "      <th></th>\n",
       "      <th>Precisão</th>\n",
       "      <th>Recall</th>\n",
       "      <th>F1</th>\n",
       "    </tr>\n",
       "  </thead>\n",
       "  <tbody>\n",
       "    <tr>\n",
       "      <th>0</th>\n",
       "      <td>0.968003</td>\n",
       "      <td>0.976886</td>\n",
       "      <td>0.972424</td>\n",
       "    </tr>\n",
       "    <tr>\n",
       "      <th>1</th>\n",
       "      <td>0.969130</td>\n",
       "      <td>0.979892</td>\n",
       "      <td>0.974481</td>\n",
       "    </tr>\n",
       "    <tr>\n",
       "      <th>2</th>\n",
       "      <td>0.939734</td>\n",
       "      <td>0.912245</td>\n",
       "      <td>0.925785</td>\n",
       "    </tr>\n",
       "    <tr>\n",
       "      <th>3</th>\n",
       "      <td>0.918253</td>\n",
       "      <td>0.915548</td>\n",
       "      <td>0.916899</td>\n",
       "    </tr>\n",
       "    <tr>\n",
       "      <th>4</th>\n",
       "      <td>0.937478</td>\n",
       "      <td>0.946685</td>\n",
       "      <td>0.942059</td>\n",
       "    </tr>\n",
       "    <tr>\n",
       "      <th>5</th>\n",
       "      <td>0.913060</td>\n",
       "      <td>0.899505</td>\n",
       "      <td>0.906232</td>\n",
       "    </tr>\n",
       "    <tr>\n",
       "      <th>6</th>\n",
       "      <td>0.959212</td>\n",
       "      <td>0.968925</td>\n",
       "      <td>0.964044</td>\n",
       "    </tr>\n",
       "    <tr>\n",
       "      <th>7</th>\n",
       "      <td>0.942631</td>\n",
       "      <td>0.950463</td>\n",
       "      <td>0.946531</td>\n",
       "    </tr>\n",
       "    <tr>\n",
       "      <th>8</th>\n",
       "      <td>0.899035</td>\n",
       "      <td>0.908426</td>\n",
       "      <td>0.903706</td>\n",
       "    </tr>\n",
       "    <tr>\n",
       "      <th>9</th>\n",
       "      <td>0.923523</td>\n",
       "      <td>0.910162</td>\n",
       "      <td>0.916794</td>\n",
       "    </tr>\n",
       "  </tbody>\n",
       "</table>\n",
       "</div>"
      ],
      "text/plain": [
       "   Precisão    Recall        F1\n",
       "0  0.968003  0.976886  0.972424\n",
       "1  0.969130  0.979892  0.974481\n",
       "2  0.939734  0.912245  0.925785\n",
       "3  0.918253  0.915548  0.916899\n",
       "4  0.937478  0.946685  0.942059\n",
       "5  0.913060  0.899505  0.906232\n",
       "6  0.959212  0.968925  0.964044\n",
       "7  0.942631  0.950463  0.946531\n",
       "8  0.899035  0.908426  0.903706\n",
       "9  0.923523  0.910162  0.916794"
      ]
     },
     "execution_count": 32,
     "metadata": {},
     "output_type": "execute_result"
    }
   ],
   "source": [
    "y_pred = reference_model.predict(x)\n",
    "pd.DataFrame([precision_score(y, y_pred, average=None), recall_score(y, y_pred, average=None), f1_score(y, y_pred, average=None)], index=[\"Precisão\", \"Recall\", \"F1\"]).T"
   ]
  },
  {
   "cell_type": "code",
   "execution_count": 33,
   "metadata": {},
   "outputs": [
    {
     "data": {
      "text/html": [
       "<div>\n",
       "<style scoped>\n",
       "    .dataframe tbody tr th:only-of-type {\n",
       "        vertical-align: middle;\n",
       "    }\n",
       "\n",
       "    .dataframe tbody tr th {\n",
       "        vertical-align: top;\n",
       "    }\n",
       "\n",
       "    .dataframe thead th {\n",
       "        text-align: right;\n",
       "    }\n",
       "</style>\n",
       "<table border=\"1\" class=\"dataframe\">\n",
       "  <thead>\n",
       "    <tr style=\"text-align: right;\">\n",
       "      <th></th>\n",
       "      <th>Precisão</th>\n",
       "      <th>Recall</th>\n",
       "      <th>F1</th>\n",
       "    </tr>\n",
       "  </thead>\n",
       "  <tbody>\n",
       "    <tr>\n",
       "      <th>0</th>\n",
       "      <td>0.969003</td>\n",
       "      <td>0.977566</td>\n",
       "      <td>0.973266</td>\n",
       "    </tr>\n",
       "    <tr>\n",
       "      <th>1</th>\n",
       "      <td>0.970544</td>\n",
       "      <td>0.978992</td>\n",
       "      <td>0.974750</td>\n",
       "    </tr>\n",
       "    <tr>\n",
       "      <th>2</th>\n",
       "      <td>0.936546</td>\n",
       "      <td>0.918707</td>\n",
       "      <td>0.927541</td>\n",
       "    </tr>\n",
       "    <tr>\n",
       "      <th>3</th>\n",
       "      <td>0.923254</td>\n",
       "      <td>0.917512</td>\n",
       "      <td>0.920374</td>\n",
       "    </tr>\n",
       "    <tr>\n",
       "      <th>4</th>\n",
       "      <td>0.942787</td>\n",
       "      <td>0.942126</td>\n",
       "      <td>0.942456</td>\n",
       "    </tr>\n",
       "    <tr>\n",
       "      <th>5</th>\n",
       "      <td>0.910099</td>\n",
       "      <td>0.905596</td>\n",
       "      <td>0.907842</td>\n",
       "    </tr>\n",
       "    <tr>\n",
       "      <th>6</th>\n",
       "      <td>0.959585</td>\n",
       "      <td>0.969972</td>\n",
       "      <td>0.964751</td>\n",
       "    </tr>\n",
       "    <tr>\n",
       "      <th>7</th>\n",
       "      <td>0.949583</td>\n",
       "      <td>0.945030</td>\n",
       "      <td>0.947301</td>\n",
       "    </tr>\n",
       "    <tr>\n",
       "      <th>8</th>\n",
       "      <td>0.905977</td>\n",
       "      <td>0.902507</td>\n",
       "      <td>0.904239</td>\n",
       "    </tr>\n",
       "    <tr>\n",
       "      <th>9</th>\n",
       "      <td>0.913724</td>\n",
       "      <td>0.922948</td>\n",
       "      <td>0.918313</td>\n",
       "    </tr>\n",
       "  </tbody>\n",
       "</table>\n",
       "</div>"
      ],
      "text/plain": [
       "   Precisão    Recall        F1\n",
       "0  0.969003  0.977566  0.973266\n",
       "1  0.970544  0.978992  0.974750\n",
       "2  0.936546  0.918707  0.927541\n",
       "3  0.923254  0.917512  0.920374\n",
       "4  0.942787  0.942126  0.942456\n",
       "5  0.910099  0.905596  0.907842\n",
       "6  0.959585  0.969972  0.964751\n",
       "7  0.949583  0.945030  0.947301\n",
       "8  0.905977  0.902507  0.904239\n",
       "9  0.913724  0.922948  0.918313"
      ]
     },
     "execution_count": 33,
     "metadata": {},
     "output_type": "execute_result"
    }
   ],
   "source": [
    "y_pred = balanced_model.predict(x)\n",
    "pd.DataFrame([precision_score(y, y_pred, average=None), recall_score(y, y_pred, average=None), f1_score(y, y_pred, average=None)], index=[\"Precisão\", \"Recall\", \"F1\"]).T"
   ]
  },
  {
   "cell_type": "markdown",
   "metadata": {},
   "source": [
    "## Métricas de classificação\n",
    "\n",
    "\\begin{equation}\n",
    "Acurácia = \\frac{Acertos}{Total}\n",
    "\\end{equation}\n",
    "\n",
    "\\begin{equation}\n",
    "Precisão = \\frac{VP}{VP + FP}\n",
    "\\end{equation}\n",
    "\n",
    "\\begin{equation}\n",
    "Recall = \\frac{VP}{VP + FN}\n",
    "\\end{equation}\n",
    "\n",
    "\\begin{equation}\n",
    "F1 = \\frac{Precisão + Recall}{2}\n",
    "\\end{equation}"
   ]
  },
  {
   "cell_type": "code",
   "execution_count": 34,
   "metadata": {},
   "outputs": [
    {
     "data": {
      "text/plain": [
       "Text(0.5, 0.98, 'Matriz de confusão')"
      ]
     },
     "execution_count": 34,
     "metadata": {},
     "output_type": "execute_result"
    },
    {
     "data": {
      "image/png": "[encoded data removed]",
      "text/plain": [
       "<Figure size 1200x1000 with 8 Axes>"
      ]
     },
     "metadata": {},
     "output_type": "display_data"
    }
   ],
   "source": [
    "fig, axes = plt.subplots(2, 2, figsize=(12, 10))\n",
    "ConfusionMatrixDisplay.from_estimator(reference_model, test_x, test_y, ax=axes[0][0])\n",
    "ConfusionMatrixDisplay.from_estimator(balanced_model, test_x, test_y, ax=axes[0][1])\n",
    "ConfusionMatrixDisplay.from_estimator(downsample_model, test_x, test_y, ax=axes[1][0])\n",
    "ConfusionMatrixDisplay.from_estimator(upsample_model, test_x, test_y, ax=axes[1][1])\n",
    "axes[0][0].title.set_text(\"Sem balanceamento\")\n",
    "axes[0][1].title.set_text(\"Com balanceamento\")\n",
    "axes[1][0].title.set_text(\"Downsample\")\n",
    "axes[1][1].title.set_text(\"Upsample\")\n",
    "fig.suptitle(\"Matriz de confusão\", size=16)"
   ]
  },
  {
   "cell_type": "markdown",
   "metadata": {},
   "source": [
    "# Classificadores"
   ]
  },
  {
   "cell_type": "code",
   "execution_count": 35,
   "metadata": {},
   "outputs": [],
   "source": [
    "kmeans = KMeans(10, random_state=SEED)\n",
    "best_kmeans = kmeans.fit(x)\n",
    "svc = SVC(random_state=SEED, probability=True)\n",
    "cv_result = cross_validate(svc, x.iloc[:5000], y.label.iloc[:5000], cv=3, return_estimator=True)\n",
    "best_svc = cv_result[\"estimator\"][cv_result[\"test_score\"].argmax()]\n",
    "tree = DecisionTreeClassifier(random_state=SEED, )\n",
    "cv_result = cross_validate(tree, x, y.label, cv=3, return_estimator=True)\n",
    "best_tree = cv_result[\"estimator\"][cv_result[\"test_score\"].argmax()]"
   ]
  },
  {
   "cell_type": "code",
   "execution_count": 36,
   "metadata": {},
   "outputs": [
    {
     "data": {
      "text/plain": [
       "array([7], dtype=int32)"
      ]
     },
     "execution_count": 36,
     "metadata": {},
     "output_type": "execute_result"
    },
    {
     "data": {
      "image/png": "[encoded data removed]",
      "text/plain": [
       "<Figure size 640x480 with 1 Axes>"
      ]
     },
     "metadata": {},
     "output_type": "display_data"
    }
   ],
   "source": [
    "i = 0\n",
    "y_pred = best_kmeans.predict(x.iloc[[i]])\n",
    "plt.imshow(x.iloc[i].to_numpy().reshape(28, 28), cmap=\"gray\")\n",
    "y_pred"
   ]
  },
  {
   "cell_type": "code",
   "execution_count": 37,
   "metadata": {},
   "outputs": [
    {
     "data": {
      "text/html": [
       "<div>\n",
       "<style scoped>\n",
       "    .dataframe tbody tr th:only-of-type {\n",
       "        vertical-align: middle;\n",
       "    }\n",
       "\n",
       "    .dataframe tbody tr th {\n",
       "        vertical-align: top;\n",
       "    }\n",
       "\n",
       "    .dataframe thead th {\n",
       "        text-align: right;\n",
       "    }\n",
       "</style>\n",
       "<table border=\"1\" class=\"dataframe\">\n",
       "  <thead>\n",
       "    <tr style=\"text-align: right;\">\n",
       "      <th></th>\n",
       "      <th>Precisão</th>\n",
       "      <th>Recall</th>\n",
       "      <th>F1</th>\n",
       "    </tr>\n",
       "  </thead>\n",
       "  <tbody>\n",
       "    <tr>\n",
       "      <th>0</th>\n",
       "      <td>0.970388</td>\n",
       "      <td>0.969069</td>\n",
       "      <td>0.969728</td>\n",
       "    </tr>\n",
       "    <tr>\n",
       "      <th>1</th>\n",
       "      <td>0.965966</td>\n",
       "      <td>0.979592</td>\n",
       "      <td>0.972731</td>\n",
       "    </tr>\n",
       "    <tr>\n",
       "      <th>2</th>\n",
       "      <td>0.935770</td>\n",
       "      <td>0.931633</td>\n",
       "      <td>0.933697</td>\n",
       "    </tr>\n",
       "    <tr>\n",
       "      <th>3</th>\n",
       "      <td>0.929698</td>\n",
       "      <td>0.926350</td>\n",
       "      <td>0.928021</td>\n",
       "    </tr>\n",
       "    <tr>\n",
       "      <th>4</th>\n",
       "      <td>0.944367</td>\n",
       "      <td>0.946685</td>\n",
       "      <td>0.945525</td>\n",
       "    </tr>\n",
       "    <tr>\n",
       "      <th>5</th>\n",
       "      <td>0.926829</td>\n",
       "      <td>0.925771</td>\n",
       "      <td>0.926300</td>\n",
       "    </tr>\n",
       "    <tr>\n",
       "      <th>6</th>\n",
       "      <td>0.961281</td>\n",
       "      <td>0.953561</td>\n",
       "      <td>0.957406</td>\n",
       "    </tr>\n",
       "    <tr>\n",
       "      <th>7</th>\n",
       "      <td>0.951899</td>\n",
       "      <td>0.961329</td>\n",
       "      <td>0.956591</td>\n",
       "    </tr>\n",
       "    <tr>\n",
       "      <th>8</th>\n",
       "      <td>0.932155</td>\n",
       "      <td>0.918524</td>\n",
       "      <td>0.925289</td>\n",
       "    </tr>\n",
       "    <tr>\n",
       "      <th>9</th>\n",
       "      <td>0.934965</td>\n",
       "      <td>0.938425</td>\n",
       "      <td>0.936692</td>\n",
       "    </tr>\n",
       "  </tbody>\n",
       "</table>\n",
       "</div>"
      ],
      "text/plain": [
       "   Precisão    Recall        F1\n",
       "0  0.970388  0.969069  0.969728\n",
       "1  0.965966  0.979592  0.972731\n",
       "2  0.935770  0.931633  0.933697\n",
       "3  0.929698  0.926350  0.928021\n",
       "4  0.944367  0.946685  0.945525\n",
       "5  0.926829  0.925771  0.926300\n",
       "6  0.961281  0.953561  0.957406\n",
       "7  0.951899  0.961329  0.956591\n",
       "8  0.932155  0.918524  0.925289\n",
       "9  0.934965  0.938425  0.936692"
      ]
     },
     "execution_count": 37,
     "metadata": {},
     "output_type": "execute_result"
    }
   ],
   "source": [
    "y_pred = best_tree.predict(x)\n",
    "pd.DataFrame([precision_score(y, y_pred, average=None), recall_score(y, y_pred, average=None), f1_score(y, y_pred, average=None)], index=[\"Precisão\", \"Recall\", \"F1\"]).T"
   ]
  },
  {
   "cell_type": "code",
   "execution_count": 38,
   "metadata": {},
   "outputs": [
    {
     "data": {
      "text/html": [
       "<div>\n",
       "<style scoped>\n",
       "    .dataframe tbody tr th:only-of-type {\n",
       "        vertical-align: middle;\n",
       "    }\n",
       "\n",
       "    .dataframe tbody tr th {\n",
       "        vertical-align: top;\n",
       "    }\n",
       "\n",
       "    .dataframe thead th {\n",
       "        text-align: right;\n",
       "    }\n",
       "</style>\n",
       "<table border=\"1\" class=\"dataframe\">\n",
       "  <thead>\n",
       "    <tr style=\"text-align: right;\">\n",
       "      <th></th>\n",
       "      <th>Precisão</th>\n",
       "      <th>Recall</th>\n",
       "      <th>F1</th>\n",
       "    </tr>\n",
       "  </thead>\n",
       "  <tbody>\n",
       "    <tr>\n",
       "      <th>0</th>\n",
       "      <td>0.963160</td>\n",
       "      <td>0.986404</td>\n",
       "      <td>0.974643</td>\n",
       "    </tr>\n",
       "    <tr>\n",
       "      <th>1</th>\n",
       "      <td>0.963115</td>\n",
       "      <td>0.987395</td>\n",
       "      <td>0.975104</td>\n",
       "    </tr>\n",
       "    <tr>\n",
       "      <th>2</th>\n",
       "      <td>0.948300</td>\n",
       "      <td>0.929592</td>\n",
       "      <td>0.938853</td>\n",
       "    </tr>\n",
       "    <tr>\n",
       "      <th>3</th>\n",
       "      <td>0.941118</td>\n",
       "      <td>0.926023</td>\n",
       "      <td>0.933509</td>\n",
       "    </tr>\n",
       "    <tr>\n",
       "      <th>4</th>\n",
       "      <td>0.941299</td>\n",
       "      <td>0.950544</td>\n",
       "      <td>0.945899</td>\n",
       "    </tr>\n",
       "    <tr>\n",
       "      <th>5</th>\n",
       "      <td>0.935825</td>\n",
       "      <td>0.943662</td>\n",
       "      <td>0.939727</td>\n",
       "    </tr>\n",
       "    <tr>\n",
       "      <th>6</th>\n",
       "      <td>0.955403</td>\n",
       "      <td>0.972416</td>\n",
       "      <td>0.963835</td>\n",
       "    </tr>\n",
       "    <tr>\n",
       "      <th>7</th>\n",
       "      <td>0.953841</td>\n",
       "      <td>0.944391</td>\n",
       "      <td>0.949093</td>\n",
       "    </tr>\n",
       "    <tr>\n",
       "      <th>8</th>\n",
       "      <td>0.936812</td>\n",
       "      <td>0.918872</td>\n",
       "      <td>0.927755</td>\n",
       "    </tr>\n",
       "    <tr>\n",
       "      <th>9</th>\n",
       "      <td>0.934685</td>\n",
       "      <td>0.914872</td>\n",
       "      <td>0.924673</td>\n",
       "    </tr>\n",
       "  </tbody>\n",
       "</table>\n",
       "</div>"
      ],
      "text/plain": [
       "   Precisão    Recall        F1\n",
       "0  0.963160  0.986404  0.974643\n",
       "1  0.963115  0.987395  0.975104\n",
       "2  0.948300  0.929592  0.938853\n",
       "3  0.941118  0.926023  0.933509\n",
       "4  0.941299  0.950544  0.945899\n",
       "5  0.935825  0.943662  0.939727\n",
       "6  0.955403  0.972416  0.963835\n",
       "7  0.953841  0.944391  0.949093\n",
       "8  0.936812  0.918872  0.927755\n",
       "9  0.934685  0.914872  0.924673"
      ]
     },
     "execution_count": 38,
     "metadata": {},
     "output_type": "execute_result"
    }
   ],
   "source": [
    "y_pred = best_svc.predict(x)\n",
    "pd.DataFrame([precision_score(y, y_pred, average=None), recall_score(y, y_pred, average=None), f1_score(y, y_pred, average=None)], index=[\"Precisão\", \"Recall\", \"F1\"]).T"
   ]
  },
  {
   "cell_type": "code",
   "execution_count": 39,
   "metadata": {},
   "outputs": [
    {
     "data": {
      "text/html": [
       "<div>\n",
       "<style scoped>\n",
       "    .dataframe tbody tr th:only-of-type {\n",
       "        vertical-align: middle;\n",
       "    }\n",
       "\n",
       "    .dataframe tbody tr th {\n",
       "        vertical-align: top;\n",
       "    }\n",
       "\n",
       "    .dataframe thead th {\n",
       "        text-align: right;\n",
       "    }\n",
       "</style>\n",
       "<table border=\"1\" class=\"dataframe\">\n",
       "  <thead>\n",
       "    <tr style=\"text-align: right;\">\n",
       "      <th></th>\n",
       "      <th>Precisão</th>\n",
       "      <th>Recall</th>\n",
       "      <th>F1</th>\n",
       "    </tr>\n",
       "  </thead>\n",
       "  <tbody>\n",
       "    <tr>\n",
       "      <th>0</th>\n",
       "      <td>0.989186</td>\n",
       "      <td>0.994901</td>\n",
       "      <td>0.992035</td>\n",
       "    </tr>\n",
       "    <tr>\n",
       "      <th>1</th>\n",
       "      <td>0.991346</td>\n",
       "      <td>0.996999</td>\n",
       "      <td>0.994164</td>\n",
       "    </tr>\n",
       "    <tr>\n",
       "      <th>2</th>\n",
       "      <td>0.984417</td>\n",
       "      <td>0.988435</td>\n",
       "      <td>0.986422</td>\n",
       "    </tr>\n",
       "    <tr>\n",
       "      <th>3</th>\n",
       "      <td>0.983273</td>\n",
       "      <td>0.981342</td>\n",
       "      <td>0.982307</td>\n",
       "    </tr>\n",
       "    <tr>\n",
       "      <th>4</th>\n",
       "      <td>0.988736</td>\n",
       "      <td>0.985268</td>\n",
       "      <td>0.986999</td>\n",
       "    </tr>\n",
       "    <tr>\n",
       "      <th>5</th>\n",
       "      <td>0.989276</td>\n",
       "      <td>0.983251</td>\n",
       "      <td>0.986254</td>\n",
       "    </tr>\n",
       "    <tr>\n",
       "      <th>6</th>\n",
       "      <td>0.991277</td>\n",
       "      <td>0.991969</td>\n",
       "      <td>0.991623</td>\n",
       "    </tr>\n",
       "    <tr>\n",
       "      <th>7</th>\n",
       "      <td>0.990067</td>\n",
       "      <td>0.987536</td>\n",
       "      <td>0.988800</td>\n",
       "    </tr>\n",
       "    <tr>\n",
       "      <th>8</th>\n",
       "      <td>0.981217</td>\n",
       "      <td>0.982242</td>\n",
       "      <td>0.981730</td>\n",
       "    </tr>\n",
       "    <tr>\n",
       "      <th>9</th>\n",
       "      <td>0.980061</td>\n",
       "      <td>0.975774</td>\n",
       "      <td>0.977913</td>\n",
       "    </tr>\n",
       "  </tbody>\n",
       "</table>\n",
       "</div>"
      ],
      "text/plain": [
       "   Precisão    Recall        F1\n",
       "0  0.989186  0.994901  0.992035\n",
       "1  0.991346  0.996999  0.994164\n",
       "2  0.984417  0.988435  0.986422\n",
       "3  0.983273  0.981342  0.982307\n",
       "4  0.988736  0.985268  0.986999\n",
       "5  0.989276  0.983251  0.986254\n",
       "6  0.991277  0.991969  0.991623\n",
       "7  0.990067  0.987536  0.988800\n",
       "8  0.981217  0.982242  0.981730\n",
       "9  0.980061  0.975774  0.977913"
      ]
     },
     "execution_count": 39,
     "metadata": {},
     "output_type": "execute_result"
    }
   ],
   "source": [
    "rf = RandomForestClassifier(random_state=SEED,)\n",
    "cv_result = cross_validate(rf, x, y.label, cv=3, return_estimator=True)\n",
    "best_rf = cv_result[\"estimator\"][cv_result[\"test_score\"].argmax()]\n",
    "y_pred = best_rf.predict(x)\n",
    "pd.DataFrame([precision_score(y, y_pred, average=None), recall_score(y, y_pred, average=None), f1_score(y, y_pred, average=None)], index=[\"Precisão\", \"Recall\", \"F1\"]).T"
   ]
  },
  {
   "cell_type": "code",
   "execution_count": 40,
   "metadata": {},
   "outputs": [],
   "source": [
    "with open(\"models/reference_model.pkl\", \"wb\") as f:\n",
    "    pickle.dump(reference_model, f)\n",
    "with open(\"models/balanced_model.pkl\", \"wb\") as f:\n",
    "    pickle.dump(balanced_model, f)\n",
    "with open(\"models/best_tree.pkl\", \"wb\") as f:\n",
    "    pickle.dump(best_tree, f)\n",
    "with open(\"models/best_svc.pkl\", \"wb\") as f:\n",
    "    pickle.dump(best_svc, f)\n",
    "with open(\"models/best_rf.pkl\", \"wb\") as f:\n",
    "    pickle.dump(best_rf, f)"
   ]
  },
  {
   "cell_type": "markdown",
   "metadata": {},
   "source": [
    "# Próximos passos\n",
    "- Identificar o porquê dos erros\n",
    "- Incluir classe que não representam números"
   ]
  }
 ],
 "metadata": {
  "kernelspec": {
   "display_name": "workshop",
   "language": "python",
   "name": "python3"
  },
  "language_info": {
   "codemirror_mode": {
    "name": "ipython",
    "version": 3
   },
   "file_extension": ".py",
   "mimetype": "text/x-python",
   "name": "python",
   "nbconvert_exporter": "python",
   "pygments_lexer": "ipython3",
   "version": "3.11.8"
  }
 },
 "nbformat": 4,
 "nbformat_minor": 2
}
